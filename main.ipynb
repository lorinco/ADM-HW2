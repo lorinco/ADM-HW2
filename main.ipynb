{
 "cells": [
  {
   "cell_type": "markdown",
   "metadata": {},
   "source": [
    "# Import  libraries"
   ]
  },
  {
   "cell_type": "code",
   "execution_count": 1,
   "metadata": {},
   "outputs": [],
   "source": [
    "import pandas as pd\n",
    "import matplotlib.pyplot as plt\n",
    "import numpy as np\n",
    "import seaborn as sns\n",
    "import zipfile\n",
    "import json\n",
    "\n"
   ]
  },
  {
   "cell_type": "code",
   "execution_count": 2,
   "metadata": {},
   "outputs": [],
   "source": [
    "zip_path = r'C:\\Users\\USER\\Desktop\\Courses-Sapienza\\ADM ( algorithm method and datamining )\\note and homework\\assigment2\\archive.zip'\n",
    "json_path1 = 'books.json/books.json'\n",
    "json_path2 = 'authors.json/authors.json'\n",
    "\n",
    "json_path3 = 'list.json/list.json'"
   ]
  },
  {
   "cell_type": "markdown",
   "metadata": {},
   "source": [
    "# reading data from a Zip file"
   ]
  },
  {
   "cell_type": "code",
   "execution_count": 3,
   "metadata": {},
   "outputs": [],
   "source": [
    "\n",
    "l = []\n",
    "\n",
    "with zipfile.ZipFile(zip_path, 'r') as zip_ref:   \n",
    "    with zip_ref.open(json_path2, 'r') as file:\n",
    "        for line in file:\n",
    "            # Process each line (which represents a JSON object)\n",
    "            data = json.loads(line)\n",
    "            l.append(data)\n",
    "            \n",
    "            if len(l) > 100000:\n",
    "                break\n",
    "\n",
    "# Create DataFrame from the entire list of JSON data\n",
    "df_author = pd.DataFrame(l)\n"
   ]
  },
  {
   "cell_type": "code",
   "execution_count": 145,
   "metadata": {},
   "outputs": [],
   "source": [
    "\n",
    "l = []\n",
    "\n",
    "with zipfile.ZipFile(zip_path, 'r') as zip_ref:   \n",
    "    with zip_ref.open(json_path1, 'r') as file:\n",
    "        for line in file:\n",
    "            # Process each line (which represents a JSON object)\n",
    "            data = json.loads(line)\n",
    "            l.append(data)\n",
    "            \n",
    "            if len(l) > 100000:\n",
    "                break\n",
    "\n",
    "# Create DataFrame from the entire list of JSON data\n",
    "df_book = pd.DataFrame(l)"
   ]
  },
  {
   "cell_type": "code",
   "execution_count": 8,
   "metadata": {},
   "outputs": [
    {
     "data": {
      "text/html": [
       "<div>\n",
       "<style scoped>\n",
       "    .dataframe tbody tr th:only-of-type {\n",
       "        vertical-align: middle;\n",
       "    }\n",
       "\n",
       "    .dataframe tbody tr th {\n",
       "        vertical-align: top;\n",
       "    }\n",
       "\n",
       "    .dataframe thead th {\n",
       "        text-align: right;\n",
       "    }\n",
       "</style>\n",
       "<table border=\"1\" class=\"dataframe\">\n",
       "  <thead>\n",
       "    <tr style=\"text-align: right;\">\n",
       "      <th></th>\n",
       "      <th>id</th>\n",
       "      <th>title</th>\n",
       "      <th>authors</th>\n",
       "      <th>author_name</th>\n",
       "      <th>author_id</th>\n",
       "      <th>work_id</th>\n",
       "      <th>isbn</th>\n",
       "      <th>isbn13</th>\n",
       "      <th>asin</th>\n",
       "      <th>language</th>\n",
       "      <th>...</th>\n",
       "      <th>format</th>\n",
       "      <th>edition_information</th>\n",
       "      <th>image_url</th>\n",
       "      <th>publisher</th>\n",
       "      <th>num_pages</th>\n",
       "      <th>series_id</th>\n",
       "      <th>series_name</th>\n",
       "      <th>series_position</th>\n",
       "      <th>shelves</th>\n",
       "      <th>description</th>\n",
       "    </tr>\n",
       "  </thead>\n",
       "  <tbody>\n",
       "    <tr>\n",
       "      <th>0</th>\n",
       "      <td>2</td>\n",
       "      <td>Harry Potter and the Order of the Phoenix (Har...</td>\n",
       "      <td>[{'id': '1077326', 'name': 'J.K. Rowling', 'ro...</td>\n",
       "      <td>J.K. Rowling</td>\n",
       "      <td>1077326</td>\n",
       "      <td>2809203</td>\n",
       "      <td>0439358078</td>\n",
       "      <td>9780439358071</td>\n",
       "      <td></td>\n",
       "      <td>eng</td>\n",
       "      <td>...</td>\n",
       "      <td>Paperback</td>\n",
       "      <td>US Edition</td>\n",
       "      <td>https://i.gr-assets.com/images/S/compressed.ph...</td>\n",
       "      <td>Scholastic Inc.</td>\n",
       "      <td>870</td>\n",
       "      <td>45175</td>\n",
       "      <td>Harry Potter</td>\n",
       "      <td>5</td>\n",
       "      <td>[{'name': 'to-read', 'count': 324191}, {'name'...</td>\n",
       "      <td>There is a door at the end of a silent corrido...</td>\n",
       "    </tr>\n",
       "    <tr>\n",
       "      <th>1</th>\n",
       "      <td>3</td>\n",
       "      <td>Harry Potter and the Sorcerer's Stone (Harry P...</td>\n",
       "      <td>[{'id': '1077326', 'name': 'J.K. Rowling', 'ro...</td>\n",
       "      <td>J.K. Rowling</td>\n",
       "      <td>1077326</td>\n",
       "      <td>4640799</td>\n",
       "      <td></td>\n",
       "      <td></td>\n",
       "      <td></td>\n",
       "      <td>eng</td>\n",
       "      <td>...</td>\n",
       "      <td>Hardcover</td>\n",
       "      <td>Library Edition</td>\n",
       "      <td>https://i.gr-assets.com/images/S/compressed.ph...</td>\n",
       "      <td>Scholastic Inc</td>\n",
       "      <td>309</td>\n",
       "      <td>45175</td>\n",
       "      <td>Harry Potter</td>\n",
       "      <td>1</td>\n",
       "      <td>[{'name': 'fantasy', 'count': 63540}, {'name':...</td>\n",
       "      <td>Harry Potter's life is miserable. His parents ...</td>\n",
       "    </tr>\n",
       "    <tr>\n",
       "      <th>2</th>\n",
       "      <td>4</td>\n",
       "      <td>Harry Potter and the Chamber of Secrets (Harry...</td>\n",
       "      <td>NaN</td>\n",
       "      <td>J.K. Rowling</td>\n",
       "      <td>1077326</td>\n",
       "      <td>6231171</td>\n",
       "      <td>0439554896</td>\n",
       "      <td>9780439554893</td>\n",
       "      <td></td>\n",
       "      <td>eng</td>\n",
       "      <td>...</td>\n",
       "      <td>Hardcover</td>\n",
       "      <td></td>\n",
       "      <td>https://i.gr-assets.com/images/S/compressed.ph...</td>\n",
       "      <td>Scholastic</td>\n",
       "      <td>352</td>\n",
       "      <td>45175</td>\n",
       "      <td>Harry Potter</td>\n",
       "      <td>2</td>\n",
       "      <td>[{'name': 'to-read', 'count': 282341}, {'name'...</td>\n",
       "      <td>The Dursleys were so mean and hideous that sum...</td>\n",
       "    </tr>\n",
       "    <tr>\n",
       "      <th>3</th>\n",
       "      <td>5</td>\n",
       "      <td>Harry Potter and the Prisoner of Azkaban (Harr...</td>\n",
       "      <td>[{'id': '1077326', 'name': 'J.K. Rowling', 'ro...</td>\n",
       "      <td>J.K. Rowling</td>\n",
       "      <td>1077326</td>\n",
       "      <td>2402163</td>\n",
       "      <td>043965548X</td>\n",
       "      <td>9780439655484</td>\n",
       "      <td></td>\n",
       "      <td>eng</td>\n",
       "      <td>...</td>\n",
       "      <td>Mass Market Paperback</td>\n",
       "      <td></td>\n",
       "      <td>https://i.gr-assets.com/images/S/compressed.ph...</td>\n",
       "      <td>Scholastic Inc.</td>\n",
       "      <td>435</td>\n",
       "      <td>45175</td>\n",
       "      <td>Harry Potter</td>\n",
       "      <td>3</td>\n",
       "      <td>[{'name': 'to-read', 'count': 292815}, {'name'...</td>\n",
       "      <td>For twelve long years, the dread fortress of A...</td>\n",
       "    </tr>\n",
       "    <tr>\n",
       "      <th>4</th>\n",
       "      <td>6</td>\n",
       "      <td>Harry Potter and the Goblet of Fire (Harry Pot...</td>\n",
       "      <td>[{'id': '1077326', 'name': 'J.K. Rowling', 'ro...</td>\n",
       "      <td>J.K. Rowling</td>\n",
       "      <td>1077326</td>\n",
       "      <td>3046572</td>\n",
       "      <td></td>\n",
       "      <td></td>\n",
       "      <td></td>\n",
       "      <td>eng</td>\n",
       "      <td>...</td>\n",
       "      <td>Paperback</td>\n",
       "      <td>First Scholastic Trade Paperback Edition</td>\n",
       "      <td>https://i.gr-assets.com/images/S/compressed.ph...</td>\n",
       "      <td>Scholastic</td>\n",
       "      <td>734</td>\n",
       "      <td>45175</td>\n",
       "      <td>Harry Potter</td>\n",
       "      <td>4</td>\n",
       "      <td>[{'name': 'to-read', 'count': 287086}, {'name'...</td>\n",
       "      <td>Harry Potter is midway through his training as...</td>\n",
       "    </tr>\n",
       "  </tbody>\n",
       "</table>\n",
       "<p>5 rows × 26 columns</p>\n",
       "</div>"
      ],
      "text/plain": [
       "  id                                              title  \\\n",
       "0  2  Harry Potter and the Order of the Phoenix (Har...   \n",
       "1  3  Harry Potter and the Sorcerer's Stone (Harry P...   \n",
       "2  4  Harry Potter and the Chamber of Secrets (Harry...   \n",
       "3  5  Harry Potter and the Prisoner of Azkaban (Harr...   \n",
       "4  6  Harry Potter and the Goblet of Fire (Harry Pot...   \n",
       "\n",
       "                                             authors   author_name author_id  \\\n",
       "0  [{'id': '1077326', 'name': 'J.K. Rowling', 'ro...  J.K. Rowling   1077326   \n",
       "1  [{'id': '1077326', 'name': 'J.K. Rowling', 'ro...  J.K. Rowling   1077326   \n",
       "2                                                NaN  J.K. Rowling   1077326   \n",
       "3  [{'id': '1077326', 'name': 'J.K. Rowling', 'ro...  J.K. Rowling   1077326   \n",
       "4  [{'id': '1077326', 'name': 'J.K. Rowling', 'ro...  J.K. Rowling   1077326   \n",
       "\n",
       "   work_id        isbn         isbn13 asin language  ...  \\\n",
       "0  2809203  0439358078  9780439358071           eng  ...   \n",
       "1  4640799                                      eng  ...   \n",
       "2  6231171  0439554896  9780439554893           eng  ...   \n",
       "3  2402163  043965548X  9780439655484           eng  ...   \n",
       "4  3046572                                      eng  ...   \n",
       "\n",
       "                  format                       edition_information  \\\n",
       "0              Paperback                                US Edition   \n",
       "1              Hardcover                           Library Edition   \n",
       "2              Hardcover                                             \n",
       "3  Mass Market Paperback                                             \n",
       "4              Paperback  First Scholastic Trade Paperback Edition   \n",
       "\n",
       "                                           image_url        publisher  \\\n",
       "0  https://i.gr-assets.com/images/S/compressed.ph...  Scholastic Inc.   \n",
       "1  https://i.gr-assets.com/images/S/compressed.ph...   Scholastic Inc   \n",
       "2  https://i.gr-assets.com/images/S/compressed.ph...       Scholastic   \n",
       "3  https://i.gr-assets.com/images/S/compressed.ph...  Scholastic Inc.   \n",
       "4  https://i.gr-assets.com/images/S/compressed.ph...       Scholastic   \n",
       "\n",
       "  num_pages series_id   series_name series_position  \\\n",
       "0       870     45175  Harry Potter               5   \n",
       "1       309     45175  Harry Potter               1   \n",
       "2       352     45175  Harry Potter               2   \n",
       "3       435     45175  Harry Potter               3   \n",
       "4       734     45175  Harry Potter               4   \n",
       "\n",
       "                                             shelves  \\\n",
       "0  [{'name': 'to-read', 'count': 324191}, {'name'...   \n",
       "1  [{'name': 'fantasy', 'count': 63540}, {'name':...   \n",
       "2  [{'name': 'to-read', 'count': 282341}, {'name'...   \n",
       "3  [{'name': 'to-read', 'count': 292815}, {'name'...   \n",
       "4  [{'name': 'to-read', 'count': 287086}, {'name'...   \n",
       "\n",
       "                                         description  \n",
       "0  There is a door at the end of a silent corrido...  \n",
       "1  Harry Potter's life is miserable. His parents ...  \n",
       "2  The Dursleys were so mean and hideous that sum...  \n",
       "3  For twelve long years, the dread fortress of A...  \n",
       "4  Harry Potter is midway through his training as...  \n",
       "\n",
       "[5 rows x 26 columns]"
      ]
     },
     "execution_count": 8,
     "metadata": {},
     "output_type": "execute_result"
    }
   ],
   "source": [
    "df_book.head()"
   ]
  },
  {
   "cell_type": "code",
   "execution_count": 9,
   "metadata": {
    "scrolled": true
   },
   "outputs": [
    {
     "data": {
      "text/plain": [
       "Index(['id', 'title', 'authors', 'author_name', 'author_id', 'work_id', 'isbn',\n",
       "       'isbn13', 'asin', 'language', 'average_rating', 'rating_dist',\n",
       "       'ratings_count', 'text_reviews_count', 'publication_date',\n",
       "       'original_publication_date', 'format', 'edition_information',\n",
       "       'image_url', 'publisher', 'num_pages', 'series_id', 'series_name',\n",
       "       'series_position', 'shelves', 'description'],\n",
       "      dtype='object')"
      ]
     },
     "execution_count": 9,
     "metadata": {},
     "output_type": "execute_result"
    }
   ],
   "source": [
    "df_book.columns\n"
   ]
  },
  {
   "cell_type": "code",
   "execution_count": 10,
   "metadata": {
    "scrolled": true
   },
   "outputs": [
    {
     "data": {
      "text/plain": [
       "Index(['ratings_count', 'average_rating', 'text_reviews_count', 'work_ids',\n",
       "       'book_ids', 'works_count', 'id', 'name', 'gender', 'image_url', 'about',\n",
       "       'fans_count'],\n",
       "      dtype='object')"
      ]
     },
     "execution_count": 10,
     "metadata": {},
     "output_type": "execute_result"
    }
   ],
   "source": [
    "df_author.columns"
   ]
  },
  {
   "cell_type": "markdown",
   "metadata": {},
   "source": [
    "# Rating dist of Authors"
   ]
  },
  {
   "cell_type": "code",
   "execution_count": 11,
   "metadata": {
    "scrolled": true
   },
   "outputs": [
    {
     "data": {
      "image/png": "[encoded data removed]",
      "text/plain": [
       "<Figure size 432x288 with 1 Axes>"
      ]
     },
     "metadata": {
      "needs_background": "light"
     },
     "output_type": "display_data"
    }
   ],
   "source": [
    "plt.hist(df_author['ratings_count'], bins=20)\n",
    "plt.title('Distribution of Ratings Count')\n",
    "plt.xlabel('Ratings Count')\n",
    "plt.ylabel('Frequency')\n",
    "plt.show()"
   ]
  },
  {
   "cell_type": "markdown",
   "metadata": {},
   "source": [
    "# average rating box_plot Authors"
   ]
  },
  {
   "cell_type": "code",
   "execution_count": 12,
   "metadata": {
    "scrolled": false
   },
   "outputs": [
    {
     "data": {
      "image/png": "[encoded data removed]",
      "text/plain": [
       "<Figure size 432x288 with 1 Axes>"
      ]
     },
     "metadata": {
      "needs_background": "light"
     },
     "output_type": "display_data"
    }
   ],
   "source": [
    "plt.boxplot(df_author['average_rating'])\n",
    "plt.title('Boxplot of Average Rating')\n",
    "plt.ylabel('Average Rating')\n",
    "plt.show()\n"
   ]
  },
  {
   "cell_type": "markdown",
   "metadata": {},
   "source": [
    "# Text Review by gender"
   ]
  },
  {
   "cell_type": "code",
   "execution_count": 13,
   "metadata": {},
   "outputs": [
    {
     "data": {
      "image/png": "[encoded data removed]",
      "text/plain": [
       "<Figure size 576x432 with 1 Axes>"
      ]
     },
     "metadata": {
      "needs_background": "light"
     },
     "output_type": "display_data"
    }
   ],
   "source": [
    "\n",
    "plt.figure(figsize=(8, 6))\n",
    "sns.barplot(x='gender', y='text_reviews_count', data=df_author)\n",
    "plt.title('Text Reviews Count by Gender')\n",
    "plt.xlabel('Gender')\n",
    "plt.ylabel('Text Reviews Count')\n",
    "plt.show()"
   ]
  },
  {
   "cell_type": "markdown",
   "metadata": {},
   "source": [
    "# Number of Fans of each author by Gender "
   ]
  },
  {
   "cell_type": "code",
   "execution_count": 14,
   "metadata": {
    "scrolled": true
   },
   "outputs": [
    {
     "data": {
      "image/png": "[encoded data removed]",
      "text/plain": [
       "<Figure size 576x432 with 1 Axes>"
      ]
     },
     "metadata": {
      "needs_background": "light"
     },
     "output_type": "display_data"
    }
   ],
   "source": [
    "\n",
    "plt.figure(figsize=(8, 6))\n",
    "sns.barplot(x='gender', y='fans_count', data=df_author)\n",
    "plt.title('Text Reviews Count by Gender')\n",
    "plt.xlabel('Gender')\n",
    "plt.ylabel('Text Reviews Count')\n",
    "plt.show()"
   ]
  },
  {
   "cell_type": "markdown",
   "metadata": {},
   "source": [
    "# Relationship Between textreview count and rating count"
   ]
  },
  {
   "cell_type": "code",
   "execution_count": 15,
   "metadata": {},
   "outputs": [
    {
     "data": {
      "image/png": "[encoded data removed]",
      "text/plain": [
       "<Figure size 720x720 with 1 Axes>"
      ]
     },
     "metadata": {
      "needs_background": "light"
     },
     "output_type": "display_data"
    }
   ],
   "source": [
    "plt.figure(figsize = (10, 10))\n",
    "\n",
    "plt.scatter(df_author['ratings_count'], df_author['text_reviews_count'])\n",
    "plt.title('Ratings Count vs. Text Reviews Count' , fontdict = {'size' : 20})\n",
    "plt.xlabel('Ratings Count' , fontdict = {'size' : 15})\n",
    "plt.ylabel('Text Reviews Count' , fontdict = {'size' : 15})\n",
    "plt.show()"
   ]
  },
  {
   "cell_type": "markdown",
   "metadata": {},
   "source": [
    "# Hist of number of books published by one authors"
   ]
  },
  {
   "cell_type": "code",
   "execution_count": 16,
   "metadata": {},
   "outputs": [
    {
     "data": {
      "image/png": "[encoded data removed]",
      "text/plain": [
       "<Figure size 1440x432 with 1 Axes>"
      ]
     },
     "metadata": {
      "needs_background": "light"
     },
     "output_type": "display_data"
    }
   ],
   "source": [
    "plt.figure(figsize=(20, 6))\n",
    "work_counts = df_author['works_count'].value_counts().reset_index()\n",
    "work_counts.columns = ['Work Count', 'Frequency']\n",
    "sns.barplot(x='Work Count', y='Frequency', data=work_counts)\n",
    "plt.title('Bar Plot of Work Counts')\n",
    "plt.xlabel('Work Count')\n",
    "plt.ylabel('Frequency')\n",
    "plt.show()"
   ]
  },
  {
   "cell_type": "markdown",
   "metadata": {},
   "source": [
    "# working with book data"
   ]
  },
  {
   "cell_type": "code",
   "execution_count": 17,
   "metadata": {
    "scrolled": true
   },
   "outputs": [
    {
     "data": {
      "text/html": [
       "<div>\n",
       "<style scoped>\n",
       "    .dataframe tbody tr th:only-of-type {\n",
       "        vertical-align: middle;\n",
       "    }\n",
       "\n",
       "    .dataframe tbody tr th {\n",
       "        vertical-align: top;\n",
       "    }\n",
       "\n",
       "    .dataframe thead th {\n",
       "        text-align: right;\n",
       "    }\n",
       "</style>\n",
       "<table border=\"1\" class=\"dataframe\">\n",
       "  <thead>\n",
       "    <tr style=\"text-align: right;\">\n",
       "      <th></th>\n",
       "      <th>average_rating</th>\n",
       "      <th>ratings_count</th>\n",
       "      <th>text_reviews_count</th>\n",
       "    </tr>\n",
       "  </thead>\n",
       "  <tbody>\n",
       "    <tr>\n",
       "      <th>count</th>\n",
       "      <td>101.000000</td>\n",
       "      <td>1.010000e+02</td>\n",
       "      <td>101.000000</td>\n",
       "    </tr>\n",
       "    <tr>\n",
       "      <th>mean</th>\n",
       "      <td>4.037723</td>\n",
       "      <td>3.207753e+05</td>\n",
       "      <td>6378.861386</td>\n",
       "    </tr>\n",
       "    <tr>\n",
       "      <th>std</th>\n",
       "      <td>0.374585</td>\n",
       "      <td>9.522260e+05</td>\n",
       "      <td>16178.948973</td>\n",
       "    </tr>\n",
       "    <tr>\n",
       "      <th>min</th>\n",
       "      <td>2.850000</td>\n",
       "      <td>4.000000e+00</td>\n",
       "      <td>0.000000</td>\n",
       "    </tr>\n",
       "    <tr>\n",
       "      <th>25%</th>\n",
       "      <td>3.800000</td>\n",
       "      <td>2.110000e+02</td>\n",
       "      <td>19.000000</td>\n",
       "    </tr>\n",
       "    <tr>\n",
       "      <th>50%</th>\n",
       "      <td>3.930000</td>\n",
       "      <td>2.826000e+03</td>\n",
       "      <td>173.000000</td>\n",
       "    </tr>\n",
       "    <tr>\n",
       "      <th>75%</th>\n",
       "      <td>4.360000</td>\n",
       "      <td>9.366300e+04</td>\n",
       "      <td>3324.000000</td>\n",
       "    </tr>\n",
       "    <tr>\n",
       "      <th>max</th>\n",
       "      <td>4.790000</td>\n",
       "      <td>7.377351e+06</td>\n",
       "      <td>116930.000000</td>\n",
       "    </tr>\n",
       "  </tbody>\n",
       "</table>\n",
       "</div>"
      ],
      "text/plain": [
       "       average_rating  ratings_count  text_reviews_count\n",
       "count      101.000000   1.010000e+02          101.000000\n",
       "mean         4.037723   3.207753e+05         6378.861386\n",
       "std          0.374585   9.522260e+05        16178.948973\n",
       "min          2.850000   4.000000e+00            0.000000\n",
       "25%          3.800000   2.110000e+02           19.000000\n",
       "50%          3.930000   2.826000e+03          173.000000\n",
       "75%          4.360000   9.366300e+04         3324.000000\n",
       "max          4.790000   7.377351e+06       116930.000000"
      ]
     },
     "execution_count": 17,
     "metadata": {},
     "output_type": "execute_result"
    }
   ],
   "source": [
    "df_book.describe()"
   ]
  },
  {
   "cell_type": "code",
   "execution_count": 18,
   "metadata": {},
   "outputs": [
    {
     "data": {
      "text/plain": [
       "Index(['id', 'title', 'authors', 'author_name', 'author_id', 'work_id', 'isbn',\n",
       "       'isbn13', 'asin', 'language', 'average_rating', 'rating_dist',\n",
       "       'ratings_count', 'text_reviews_count', 'publication_date',\n",
       "       'original_publication_date', 'format', 'edition_information',\n",
       "       'image_url', 'publisher', 'num_pages', 'series_id', 'series_name',\n",
       "       'series_position', 'shelves', 'description'],\n",
       "      dtype='object')"
      ]
     },
     "execution_count": 18,
     "metadata": {},
     "output_type": "execute_result"
    }
   ],
   "source": [
    "df_book.columns"
   ]
  },
  {
   "cell_type": "code",
   "execution_count": 19,
   "metadata": {},
   "outputs": [
    {
     "data": {
      "text/plain": [
       "id                            object\n",
       "title                         object\n",
       "authors                       object\n",
       "author_name                   object\n",
       "author_id                     object\n",
       "work_id                       object\n",
       "isbn                          object\n",
       "isbn13                        object\n",
       "asin                          object\n",
       "language                      object\n",
       "average_rating               float64\n",
       "rating_dist                   object\n",
       "ratings_count                  int64\n",
       "text_reviews_count             int64\n",
       "publication_date              object\n",
       "original_publication_date     object\n",
       "format                        object\n",
       "edition_information           object\n",
       "image_url                     object\n",
       "publisher                     object\n",
       "num_pages                     object\n",
       "series_id                     object\n",
       "series_name                   object\n",
       "series_position               object\n",
       "shelves                       object\n",
       "description                   object\n",
       "dtype: object"
      ]
     },
     "execution_count": 19,
     "metadata": {},
     "output_type": "execute_result"
    }
   ],
   "source": [
    "df_book.dtypes"
   ]
  },
  {
   "cell_type": "markdown",
   "metadata": {},
   "source": [
    "### Avg rating box plot with different language"
   ]
  },
  {
   "cell_type": "code",
   "execution_count": 20,
   "metadata": {
    "scrolled": true
   },
   "outputs": [
    {
     "data": {
      "image/png": "[encoded data removed]",
      "text/plain": [
       "<Figure size 720x432 with 1 Axes>"
      ]
     },
     "metadata": {
      "needs_background": "light"
     },
     "output_type": "display_data"
    }
   ],
   "source": [
    "plt.figure(figsize=(10, 6))\n",
    "sns.boxplot(x='language', y='average_rating', data=df_book)\n",
    "plt.title('Average Rating Distribution by Language')\n",
    "plt.xlabel('Language')\n",
    "plt.ylabel('Average Rating')\n",
    "plt.show()"
   ]
  },
  {
   "cell_type": "markdown",
   "metadata": {},
   "source": [
    "### number of pages for each format in a barplot"
   ]
  },
  {
   "cell_type": "code",
   "execution_count": 21,
   "metadata": {},
   "outputs": [
    {
     "data": {
      "image/png": "[encoded data removed]",
      "text/plain": [
       "<Figure size 1080x720 with 1 Axes>"
      ]
     },
     "metadata": {
      "needs_background": "light"
     },
     "output_type": "display_data"
    }
   ],
   "source": [
    "# Convert 'num_pages' to numeric, setting errors='coerce' to convert non-convertible values to NaN\n",
    "df_book['num_pages'] = pd.to_numeric(df_book['num_pages'], errors='coerce')\n",
    "\n",
    "# Replace NaN values with a default value (e.g., 0)\n",
    "df_book['num_pages'].fillna(0, inplace=True)\n",
    "\n",
    "# Convert the column to integer\n",
    "df_book['num_pages'] = df_book['num_pages'].astype(int)\n",
    "\n",
    "\n",
    "plt.figure(figsize = (15, 10))\n",
    "sns.barplot(x='format', y='num_pages', data=df_book)\n",
    "plt.title('Number of Pages by Format')\n",
    "plt.xlabel('Format')\n",
    "plt.ylabel('Number of Pages')\n",
    "plt.show()"
   ]
  },
  {
   "cell_type": "markdown",
   "metadata": {},
   "source": [
    "### Number of Books Published yeach year"
   ]
  },
  {
   "cell_type": "code",
   "execution_count": 22,
   "metadata": {
    "scrolled": true
   },
   "outputs": [
    {
     "data": {
      "image/png": "[encoded data removed]",
      "text/plain": [
       "<Figure size 720x432 with 1 Axes>"
      ]
     },
     "metadata": {
      "needs_background": "light"
     },
     "output_type": "display_data"
    }
   ],
   "source": [
    "df_book['publication_year'] = pd.to_datetime(df_book['publication_date']).dt.year\n",
    "\n",
    "plt.figure(figsize=(10, 6))\n",
    "\n",
    "df_book['publication_year'].value_counts().sort_index().plot(kind='bar')\n",
    "\n",
    "plt.title('Number of Books Published per Year')\n",
    "plt.xlabel('Year')\n",
    "plt.ylabel('Number of Books')\n",
    "plt.show()"
   ]
  },
  {
   "cell_type": "markdown",
   "metadata": {},
   "source": [
    "### average rating in each year"
   ]
  },
  {
   "cell_type": "code",
   "execution_count": 23,
   "metadata": {
    "scrolled": true
   },
   "outputs": [
    {
     "data": {
      "image/png": "[encoded data removed]",
      "text/plain": [
       "<Figure size 720x432 with 1 Axes>"
      ]
     },
     "metadata": {
      "needs_background": "light"
     },
     "output_type": "display_data"
    }
   ],
   "source": [
    "\n",
    "# Convert 'publication_date' to datetime if it's not already in datetime format\n",
    "df_book['publication_date'] = pd.to_datetime(df_book['publication_date'])\n",
    "\n",
    "# Extract the year from 'publication_date' and create a new column 'publication_year'\n",
    "df_book['publication_year'] = df_book['publication_date'].dt.year\n",
    "\n",
    "# Group by 'publication_year' and calculate the mean of 'average_rating' for each year\n",
    "avg_rating_by_year = df_book.groupby('publication_year')['average_rating'].mean().reset_index()\n",
    "\n",
    "# Sort the data by publication year (optional but can be helpful for a clearer visualization)\n",
    "avg_rating_by_year = avg_rating_by_year.sort_values(by='publication_year')\n",
    "\n",
    "# Visualization - Line plot of average ratings by publication year\n",
    "plt.figure(figsize=(10, 6))\n",
    "plt.plot(avg_rating_by_year['publication_year'], avg_rating_by_year['average_rating'], marker='o')\n",
    "plt.title('Average Ratings by Publication Year')\n",
    "plt.xlabel('Publication Year')\n",
    "plt.ylabel('Average Rating')\n",
    "plt.xticks(avg_rating_by_year['publication_year'], rotation=45)  # Rotate x-labels for better readability\n",
    "plt.grid(True)\n",
    "plt.show()\n"
   ]
  },
  {
   "cell_type": "markdown",
   "metadata": {},
   "source": [
    "### Average Number of Ages by different years"
   ]
  },
  {
   "cell_type": "code",
   "execution_count": 24,
   "metadata": {},
   "outputs": [
    {
     "data": {
      "image/png": "[encoded data removed]",
      "text/plain": [
       "<Figure size 720x432 with 1 Axes>"
      ]
     },
     "metadata": {
      "needs_background": "light"
     },
     "output_type": "display_data"
    }
   ],
   "source": [
    "\n",
    "\n",
    "# Convert 'publication_date' to datetime if it's not already in datetime format\n",
    "df_book['publication_date'] = pd.to_datetime(df_book['publication_date'])\n",
    "\n",
    "# Extract the year from 'publication_date' and create a new column 'publication_year'\n",
    "df_book['publication_year'] = df_book['publication_date'].dt.year\n",
    "\n",
    "# Group by 'publication_year' and calculate the mean of 'num_pages' for each year\n",
    "avg_pages_by_year = df_book.groupby('publication_year')['num_pages'].mean().reset_index()\n",
    "\n",
    "# Sort the data by publication year (optional but can be helpful for a clearer visualization)\n",
    "avg_pages_by_year = avg_pages_by_year.sort_values(by='publication_year')\n",
    "\n",
    "# Visualization - Line plot of average number of pages by publication year\n",
    "plt.figure(figsize=(10, 6))\n",
    "plt.plot(avg_pages_by_year['publication_year'], avg_pages_by_year['num_pages'], marker='o', color='orange')\n",
    "plt.title('Average Number of Pages by Publication Year')\n",
    "plt.xlabel('Publication Year')\n",
    "plt.ylabel('Average Number of Pages')\n",
    "plt.xticks(avg_pages_by_year['publication_year'], rotation=45)  # Rotate x-labels for better readability\n",
    "plt.grid(True)\n",
    "plt.show()\n"
   ]
  },
  {
   "cell_type": "code",
   "execution_count": null,
   "metadata": {},
   "outputs": [],
   "source": []
  },
  {
   "cell_type": "markdown",
   "metadata": {},
   "source": [
    "# 2 -  [RQ2] "
   ]
  },
  {
   "cell_type": "markdown",
   "metadata": {},
   "source": [
    "## 2.1 - Plot the number of books for each author in descending order."
   ]
  },
  {
   "cell_type": "code",
   "execution_count": 25,
   "metadata": {
    "scrolled": false
   },
   "outputs": [
    {
     "data": {
      "text/plain": [
       "Text(0, 0.5, 'Numb of books')"
      ]
     },
     "execution_count": 25,
     "metadata": {},
     "output_type": "execute_result"
    },
    {
     "data": {
      "image/png": "[encoded data removed]",
      "text/plain": [
       "<Figure size 1080x504 with 1 Axes>"
      ]
     },
     "metadata": {
      "needs_background": "light"
     },
     "output_type": "display_data"
    }
   ],
   "source": [
    "plt.figure(figsize =(15,7))\n",
    "\n",
    "authors = df_author[['name' , 'works_count']]\n",
    "\n",
    "authors = authors.sort_values(by = 'works_count' , ascending = False )\n",
    "\n",
    "authors = authors.iloc[:8 , :]\n",
    "plt.bar(x = authors['name'] , height = authors['works_count'])\n",
    "\n",
    "plt.xlabel('Authors')\n",
    "plt.title('Number of Books of writers')\n",
    "plt.ylabel('Numb of books')"
   ]
  },
  {
   "cell_type": "markdown",
   "metadata": {},
   "source": [
    "## 2.2 - Which book has the highest number of reviews?"
   ]
  },
  {
   "cell_type": "code",
   "execution_count": 26,
   "metadata": {},
   "outputs": [
    {
     "data": {
      "text/plain": [
       "\"Harry Potter and the Sorcerer's Stone (Harry Potter, #1)\""
      ]
     },
     "execution_count": 26,
     "metadata": {},
     "output_type": "execute_result"
    }
   ],
   "source": [
    "max_reviews_index = df_book['text_reviews_count'].idxmax()\n",
    "book_with_highest_reviews = df_book.loc[max_reviews_index]\n",
    "\n",
    "book_with_highest_reviews['title']"
   ]
  },
  {
   "cell_type": "markdown",
   "metadata": {},
   "source": [
    "## 2.3 - Which are the top ten and ten worst books concerning the average score?"
   ]
  },
  {
   "cell_type": "code",
   "execution_count": 27,
   "metadata": {
    "scrolled": true
   },
   "outputs": [
    {
     "data": {
      "text/html": [
       "<div>\n",
       "<style scoped>\n",
       "    .dataframe tbody tr th:only-of-type {\n",
       "        vertical-align: middle;\n",
       "    }\n",
       "\n",
       "    .dataframe tbody tr th {\n",
       "        vertical-align: top;\n",
       "    }\n",
       "\n",
       "    .dataframe thead th {\n",
       "        text-align: right;\n",
       "    }\n",
       "</style>\n",
       "<table border=\"1\" class=\"dataframe\">\n",
       "  <thead>\n",
       "    <tr style=\"text-align: right;\">\n",
       "      <th></th>\n",
       "      <th>title</th>\n",
       "      <th>average_rating</th>\n",
       "    </tr>\n",
       "  </thead>\n",
       "  <tbody>\n",
       "    <tr>\n",
       "      <th>56</th>\n",
       "      <td>The Birthdays</td>\n",
       "      <td>2.85</td>\n",
       "    </tr>\n",
       "    <tr>\n",
       "      <th>21</th>\n",
       "      <td>Getting Results with Curriculum Mapping</td>\n",
       "      <td>3.24</td>\n",
       "    </tr>\n",
       "    <tr>\n",
       "      <th>51</th>\n",
       "      <td>Ruby Quickly: Ruby and Rails for the Real World</td>\n",
       "      <td>3.40</td>\n",
       "    </tr>\n",
       "    <tr>\n",
       "      <th>7</th>\n",
       "      <td>Bill Bryson's African Diary</td>\n",
       "      <td>3.45</td>\n",
       "    </tr>\n",
       "    <tr>\n",
       "      <th>13</th>\n",
       "      <td>Chasing Jordan</td>\n",
       "      <td>3.45</td>\n",
       "    </tr>\n",
       "    <tr>\n",
       "      <th>33</th>\n",
       "      <td>Hatchet Jobs: Writings on Contemporary Fiction</td>\n",
       "      <td>3.48</td>\n",
       "    </tr>\n",
       "    <tr>\n",
       "      <th>82</th>\n",
       "      <td>The Secrets of Frank Herbert's Dune</td>\n",
       "      <td>3.57</td>\n",
       "    </tr>\n",
       "    <tr>\n",
       "      <th>44</th>\n",
       "      <td>Love Your Handwriting (Creating Keepsakes)</td>\n",
       "      <td>3.58</td>\n",
       "    </tr>\n",
       "    <tr>\n",
       "      <th>52</th>\n",
       "      <td>Seven-Year Seduction</td>\n",
       "      <td>3.60</td>\n",
       "    </tr>\n",
       "    <tr>\n",
       "      <th>86</th>\n",
       "      <td>The Woodsman and His Hatchet: Eighty Years on ...</td>\n",
       "      <td>3.60</td>\n",
       "    </tr>\n",
       "  </tbody>\n",
       "</table>\n",
       "</div>"
      ],
      "text/plain": [
       "                                                title  average_rating\n",
       "56                                      The Birthdays            2.85\n",
       "21            Getting Results with Curriculum Mapping            3.24\n",
       "51    Ruby Quickly: Ruby and Rails for the Real World            3.40\n",
       "7                         Bill Bryson's African Diary            3.45\n",
       "13                                     Chasing Jordan            3.45\n",
       "33     Hatchet Jobs: Writings on Contemporary Fiction            3.48\n",
       "82                The Secrets of Frank Herbert's Dune            3.57\n",
       "44         Love Your Handwriting (Creating Keepsakes)            3.58\n",
       "52                               Seven-Year Seduction            3.60\n",
       "86  The Woodsman and His Hatchet: Eighty Years on ...            3.60"
      ]
     },
     "execution_count": 27,
     "metadata": {},
     "output_type": "execute_result"
    }
   ],
   "source": [
    "df_book.groupby('title')['average_rating'].mean().reset_index().sort_values(by = 'average_rating' ).head(10)"
   ]
  },
  {
   "cell_type": "code",
   "execution_count": 28,
   "metadata": {
    "scrolled": true
   },
   "outputs": [
    {
     "data": {
      "text/html": [
       "<div>\n",
       "<style scoped>\n",
       "    .dataframe tbody tr th:only-of-type {\n",
       "        vertical-align: middle;\n",
       "    }\n",
       "\n",
       "    .dataframe tbody tr th {\n",
       "        vertical-align: top;\n",
       "    }\n",
       "\n",
       "    .dataframe thead th {\n",
       "        text-align: right;\n",
       "    }\n",
       "</style>\n",
       "<table border=\"1\" class=\"dataframe\">\n",
       "  <thead>\n",
       "    <tr style=\"text-align: right;\">\n",
       "      <th></th>\n",
       "      <th>title</th>\n",
       "      <th>average_rating</th>\n",
       "    </tr>\n",
       "  </thead>\n",
       "  <tbody>\n",
       "    <tr>\n",
       "      <th>25</th>\n",
       "      <td>Harry Potter Boxed Set, Books 1-5 (Harry Potte...</td>\n",
       "      <td>4.790000</td>\n",
       "    </tr>\n",
       "    <tr>\n",
       "      <th>63</th>\n",
       "      <td>The Harry Potter Collection (Harry Potter, #1-6)</td>\n",
       "      <td>4.730000</td>\n",
       "    </tr>\n",
       "    <tr>\n",
       "      <th>26</th>\n",
       "      <td>Harry Potter Collection (Harry Potter, #1-6)</td>\n",
       "      <td>4.730000</td>\n",
       "    </tr>\n",
       "    <tr>\n",
       "      <th>42</th>\n",
       "      <td>J.R.R. Tolkien 4-Book Boxed Set: The Hobbit an...</td>\n",
       "      <td>4.600000</td>\n",
       "    </tr>\n",
       "    <tr>\n",
       "      <th>72</th>\n",
       "      <td>The Lord of the Rings</td>\n",
       "      <td>4.586667</td>\n",
       "    </tr>\n",
       "    <tr>\n",
       "      <th>76</th>\n",
       "      <td>The Lord of the Rings: Weapons and Warfare</td>\n",
       "      <td>4.580000</td>\n",
       "    </tr>\n",
       "    <tr>\n",
       "      <th>30</th>\n",
       "      <td>Harry Potter and the Prisoner of Azkaban (Harr...</td>\n",
       "      <td>4.570000</td>\n",
       "    </tr>\n",
       "    <tr>\n",
       "      <th>28</th>\n",
       "      <td>Harry Potter and the Goblet of Fire (Harry Pot...</td>\n",
       "      <td>4.560000</td>\n",
       "    </tr>\n",
       "    <tr>\n",
       "      <th>75</th>\n",
       "      <td>The Lord of the Rings: Complete Visual Companion</td>\n",
       "      <td>4.510000</td>\n",
       "    </tr>\n",
       "    <tr>\n",
       "      <th>74</th>\n",
       "      <td>The Lord of the Rings Box Set</td>\n",
       "      <td>4.500000</td>\n",
       "    </tr>\n",
       "  </tbody>\n",
       "</table>\n",
       "</div>"
      ],
      "text/plain": [
       "                                                title  average_rating\n",
       "25  Harry Potter Boxed Set, Books 1-5 (Harry Potte...        4.790000\n",
       "63   The Harry Potter Collection (Harry Potter, #1-6)        4.730000\n",
       "26       Harry Potter Collection (Harry Potter, #1-6)        4.730000\n",
       "42  J.R.R. Tolkien 4-Book Boxed Set: The Hobbit an...        4.600000\n",
       "72                              The Lord of the Rings        4.586667\n",
       "76         The Lord of the Rings: Weapons and Warfare        4.580000\n",
       "30  Harry Potter and the Prisoner of Azkaban (Harr...        4.570000\n",
       "28  Harry Potter and the Goblet of Fire (Harry Pot...        4.560000\n",
       "75   The Lord of the Rings: Complete Visual Companion        4.510000\n",
       "74                      The Lord of the Rings Box Set        4.500000"
      ]
     },
     "execution_count": 28,
     "metadata": {},
     "output_type": "execute_result"
    }
   ],
   "source": [
    "df_book.groupby('title')['average_rating'].mean().reset_index().sort_values(by = 'average_rating' , ascending = False).head(10)"
   ]
  },
  {
   "cell_type": "markdown",
   "metadata": {},
   "source": [
    "## 2.4 - Explore the different languages in the book’s dataset, providing a proper chart summarizing how these languages are distributed throughout our virtual library."
   ]
  },
  {
   "cell_type": "code",
   "execution_count": 29,
   "metadata": {
    "scrolled": true
   },
   "outputs": [
    {
     "data": {
      "image/png": "[encoded data removed]",
      "text/plain": [
       "<Figure size 720x432 with 1 Axes>"
      ]
     },
     "metadata": {
      "needs_background": "light"
     },
     "output_type": "display_data"
    }
   ],
   "source": [
    "# Count the occurrences of each language\n",
    "language_counts = df_book['language'].value_counts()\n",
    "\n",
    "# Plotting the distribution of languages\n",
    "plt.figure(figsize=(10, 6))\n",
    "language_counts.plot(kind='bar')\n",
    "plt.title('Distribution of Languages in the Virtual Library')\n",
    "plt.xlabel('Language')\n",
    "plt.ylabel('Number of Books')\n",
    "plt.xticks(rotation=45)  # Rotate x-labels for better readability\n",
    "plt.show()"
   ]
  },
  {
   "cell_type": "markdown",
   "metadata": {},
   "source": [
    "## 2.5 - How many books have more than 250 pages?"
   ]
  },
  {
   "cell_type": "code",
   "execution_count": 30,
   "metadata": {},
   "outputs": [
    {
     "name": "stdout",
     "output_type": "stream",
     "text": [
      "The number of books that have more than 250 pages is :  50\n"
     ]
    }
   ],
   "source": [
    "len1 = len(list(df_book[df_book['num_pages'] > 250 ]['title'].unique()))\n",
    "\n",
    "print('The number of books that have more than 250 pages is : ' , len1)"
   ]
  },
  {
   "cell_type": "markdown",
   "metadata": {},
   "source": [
    "## 2.6 - Plot the distribution of the fans count for the 50 most prolific authors (the ones who have written more books)"
   ]
  },
  {
   "cell_type": "code",
   "execution_count": 31,
   "metadata": {},
   "outputs": [],
   "source": [
    "fans_dist = df_author.groupby(['name' , 'fans_count'])['works_count'].sum().reset_index().sort_values(by = 'works_count' , ascending = False).head(50)"
   ]
  },
  {
   "cell_type": "code",
   "execution_count": 32,
   "metadata": {
    "scrolled": false
   },
   "outputs": [
    {
     "data": {
      "text/plain": [
       "<Figure size 720x432 with 0 Axes>"
      ]
     },
     "metadata": {},
     "output_type": "display_data"
    },
    {
     "data": {
      "image/png": "[encoded data removed]",
      "text/plain": [
       "<Figure size 432x288 with 1 Axes>"
      ]
     },
     "metadata": {
      "needs_background": "light"
     },
     "output_type": "display_data"
    }
   ],
   "source": [
    "_ = plt.figure(figsize=(10, 6))\n",
    "\n",
    "fans_dist[['fans_count']].plot(kind = 'hist', bins = 10)\n",
    "\n",
    "plt.title('Distribution of Fans Count for the 50 Most Prolific Authors')\n",
    "plt.xlabel('Fans Count')\n",
    "_ =plt.ylabel('Frequency')\n"
   ]
  },
  {
   "cell_type": "markdown",
   "metadata": {},
   "source": [
    "# [RQ3] "
   ]
  },
  {
   "cell_type": "markdown",
   "metadata": {},
   "source": [
    "Write a function that takes as input a year and returns as output the following information:\n",
    "\n",
    "* The number of books published that year.\n",
    "\n",
    "* The total number of pages written that year.\n",
    "\n",
    "* The most prolific month of that year.\n",
    "\n",
    "* The longest book written that year."
   ]
  },
  {
   "cell_type": "code",
   "execution_count": 33,
   "metadata": {},
   "outputs": [],
   "source": [
    "def cal_inf(year):\n",
    "    #1\n",
    "    data = df_book.groupby('publication_year')['title'].count()\n",
    "    num_of_books = data[year]\n",
    "    #----------------------------------\n",
    "    \n",
    "    #2\n",
    "    \n",
    "    data1 = df_book.groupby('publication_year')['num_pages'].sum()\n",
    "    total_page = data1[year]\n",
    "    \n",
    "    #----------------------------------\n",
    "    \n",
    "    #3\n",
    "    df_book['publication_date'] = df_book['publication_date'].astype(str)\n",
    "    book_data_year = df_book[df_book['publication_date'].str.startswith(str(year))]\n",
    "    \n",
    "    book_data_year['month'] = pd.to_datetime(book_data_year['publication_date']).dt.month_name()\n",
    "    \n",
    "    month_counts = book_data_year['month'].value_counts()\n",
    "    \n",
    "    most_prolific_month = month_counts.idxmax()\n",
    "    \n",
    "    #---------------------------------------------------\n",
    "    #4\n",
    "    \n",
    "    df_book['publication_date'] = df_book['publication_date'].astype(str)\n",
    "    book_data_year = df_book[df_book['publication_date'].str.startswith(str(year))]\n",
    "    \n",
    "    longest_book = book_data_year.groupby('title')['num_pages'].max()\n",
    "    longest = pd.DataFrame(longest_book).sort_values(by = 'num_pages'  , ascending = False).reset_index()['title'][0]\n",
    "    \n",
    "     \n",
    "    result = pd.DataFrame({\n",
    "        'Year': year,\n",
    "        'Num_of_books': [num_of_books],\n",
    "        'Total_pages': total_page,\n",
    "        'Most_prolific_month': most_prolific_month,\n",
    "        'Longest_book_title': [longest]})\n",
    "    \n",
    "    #print('num of books is : ' , num_of_books )\n",
    "    #print('total pages is : ' ,total_page) \n",
    "    #print('most profilic month is :', most_prolific_month)\n",
    "    #print('longest book is :',longest)\n",
    "    \n",
    "    return result\n",
    "    \n",
    "    "
   ]
  },
  {
   "cell_type": "markdown",
   "metadata": {},
   "source": [
    "# The code implemented by ChatGPT"
   ]
  },
  {
   "cell_type": "code",
   "execution_count": 39,
   "metadata": {},
   "outputs": [
    {
     "name": "stdout",
     "output_type": "stream",
     "text": [
      "{'Year': 2005, 'Num_of_books': 16, 'Total_pages': 8584, 'Most_prolific_month': 'November', 'Longest_book_title': 'Harry Potter Collection (Harry Potter, #1-6)'}\n"
     ]
    }
   ],
   "source": [
    "import pandas as pd\n",
    "\n",
    "def books_info_by_year(year, df_book):\n",
    "    # Filtering books for the given year\n",
    "    books_year = df_book[df_book['publication_date'].astype(str).str.startswith(str(year))]\n",
    "\n",
    "    # Number of books published in that year\n",
    "    num_books = books_year.shape[0]\n",
    "\n",
    "    # Total number of pages written that year\n",
    "    total_pages = books_year['num_pages'].sum()\n",
    "\n",
    "    # Extracting the month from publication date\n",
    "    books_year.loc[:,'publication_date'] = pd.to_datetime(books_year.loc[:,'publication_date'])\n",
    "    books_year.loc[:,'month'] = books_year.loc[:,'publication_date'].dt.month_name()\n",
    "    \n",
    "    # Most prolific month\n",
    "    most_prolific_month = books_year['month'].value_counts().idxmax()\n",
    "\n",
    "    # Longest book written in that year\n",
    "    longest_book = books_year.loc[books_year['num_pages'].idxmax(), 'title']\n",
    "\n",
    "    return {\n",
    "        'Year': year,\n",
    "        'Num_of_books': num_books,\n",
    "        'Total_pages': total_pages,\n",
    "        'Most_prolific_month': most_prolific_month,\n",
    "        'Longest_book_title': longest_book\n",
    "    }\n",
    "\n",
    "# Example usage:\n",
    "# Replace 'df' with the name of your book dataset\n",
    "result_2022 = books_info_by_year(2005, df_book)\n",
    "print(result_2022)\n"
   ]
  },
  {
   "cell_type": "markdown",
   "metadata": {},
   "source": [
    "##### Use this function to build your data frame: the primary key will be a year, and the required information will be the attributes within the row. Finally, show the head and the tail of this new data frame considering the first ten years registered and the last ten years."
   ]
  },
  {
   "cell_type": "code",
   "execution_count": 35,
   "metadata": {
    "scrolled": true
   },
   "outputs": [
    {
     "name": "stderr",
     "output_type": "stream",
     "text": [
      "<ipython-input-33-328694d51230>:18: SettingWithCopyWarning: \n",
      "A value is trying to be set on a copy of a slice from a DataFrame.\n",
      "Try using .loc[row_indexer,col_indexer] = value instead\n",
      "\n",
      "See the caveats in the documentation: https://pandas.pydata.org/pandas-docs/stable/user_guide/indexing.html#returning-a-view-versus-a-copy\n",
      "  book_data_year['month'] = pd.to_datetime(book_data_year['publication_date']).dt.month_name()\n"
     ]
    },
    {
     "data": {
      "text/html": [
       "<div>\n",
       "<style scoped>\n",
       "    .dataframe tbody tr th:only-of-type {\n",
       "        vertical-align: middle;\n",
       "    }\n",
       "\n",
       "    .dataframe tbody tr th {\n",
       "        vertical-align: top;\n",
       "    }\n",
       "\n",
       "    .dataframe thead th {\n",
       "        text-align: right;\n",
       "    }\n",
       "</style>\n",
       "<table border=\"1\" class=\"dataframe\">\n",
       "  <thead>\n",
       "    <tr style=\"text-align: right;\">\n",
       "      <th></th>\n",
       "      <th>Year</th>\n",
       "      <th>Num_of_books</th>\n",
       "      <th>Total_pages</th>\n",
       "      <th>Most_prolific_month</th>\n",
       "      <th>Longest_book_title</th>\n",
       "    </tr>\n",
       "  </thead>\n",
       "  <tbody>\n",
       "    <tr>\n",
       "      <th>0</th>\n",
       "      <td>1982</td>\n",
       "      <td>1</td>\n",
       "      <td>416</td>\n",
       "      <td>June</td>\n",
       "      <td>The John McPhee Reader (John McPhee Reader, #1)</td>\n",
       "    </tr>\n",
       "    <tr>\n",
       "      <th>1</th>\n",
       "      <td>1984</td>\n",
       "      <td>1</td>\n",
       "      <td>480</td>\n",
       "      <td>April</td>\n",
       "      <td>Heretics of Dune (Dune Chronicles, #5)</td>\n",
       "    </tr>\n",
       "    <tr>\n",
       "      <th>2</th>\n",
       "      <td>1986</td>\n",
       "      <td>1</td>\n",
       "      <td>128</td>\n",
       "      <td>April</td>\n",
       "      <td>Heirs of General Practice</td>\n",
       "    </tr>\n",
       "    <tr>\n",
       "      <th>3</th>\n",
       "      <td>1987</td>\n",
       "      <td>4</td>\n",
       "      <td>1398</td>\n",
       "      <td>July</td>\n",
       "      <td>Chapterhouse: Dune (Dune #6)</td>\n",
       "    </tr>\n",
       "    <tr>\n",
       "      <th>4</th>\n",
       "      <td>1990</td>\n",
       "      <td>3</td>\n",
       "      <td>956</td>\n",
       "      <td>August</td>\n",
       "      <td>The Changeling (Daughters of England, #15)</td>\n",
       "    </tr>\n",
       "    <tr>\n",
       "      <th>5</th>\n",
       "      <td>1991</td>\n",
       "      <td>3</td>\n",
       "      <td>967</td>\n",
       "      <td>July</td>\n",
       "      <td>Coming Into the Country</td>\n",
       "    </tr>\n",
       "    <tr>\n",
       "      <th>6</th>\n",
       "      <td>1993</td>\n",
       "      <td>1</td>\n",
       "      <td>254</td>\n",
       "      <td>March</td>\n",
       "      <td>Neither Here nor There: Travels in Europe</td>\n",
       "    </tr>\n",
       "    <tr>\n",
       "      <th>7</th>\n",
       "      <td>1994</td>\n",
       "      <td>3</td>\n",
       "      <td>496</td>\n",
       "      <td>April</td>\n",
       "      <td>Giving Good Weight</td>\n",
       "    </tr>\n",
       "    <tr>\n",
       "      <th>8</th>\n",
       "      <td>1995</td>\n",
       "      <td>1</td>\n",
       "      <td>0</td>\n",
       "      <td>July</td>\n",
       "      <td>The Bucaneers</td>\n",
       "    </tr>\n",
       "    <tr>\n",
       "      <th>9</th>\n",
       "      <td>1996</td>\n",
       "      <td>5</td>\n",
       "      <td>1358</td>\n",
       "      <td>February</td>\n",
       "      <td>The Ultimate Hitchhiker's Guide (Hitchhiker's ...</td>\n",
       "    </tr>\n",
       "    <tr>\n",
       "      <th>10</th>\n",
       "      <td>1997</td>\n",
       "      <td>2</td>\n",
       "      <td>432</td>\n",
       "      <td>January</td>\n",
       "      <td>Notes from a Small Island</td>\n",
       "    </tr>\n",
       "    <tr>\n",
       "      <th>11</th>\n",
       "      <td>1999</td>\n",
       "      <td>1</td>\n",
       "      <td>720</td>\n",
       "      <td>January</td>\n",
       "      <td>Annals of the Former World</td>\n",
       "    </tr>\n",
       "    <tr>\n",
       "      <th>12</th>\n",
       "      <td>2000</td>\n",
       "      <td>4</td>\n",
       "      <td>970</td>\n",
       "      <td>June</td>\n",
       "      <td>I'm a Stranger Here Myself: Notes on Returning...</td>\n",
       "    </tr>\n",
       "    <tr>\n",
       "      <th>13</th>\n",
       "      <td>2001</td>\n",
       "      <td>3</td>\n",
       "      <td>1702</td>\n",
       "      <td>September</td>\n",
       "      <td>The Lord of the Rings Box Set</td>\n",
       "    </tr>\n",
       "    <tr>\n",
       "      <th>14</th>\n",
       "      <td>2002</td>\n",
       "      <td>6</td>\n",
       "      <td>3253</td>\n",
       "      <td>September</td>\n",
       "      <td>The Lord of the Rings (The Lord of the Rings, ...</td>\n",
       "    </tr>\n",
       "    <tr>\n",
       "      <th>15</th>\n",
       "      <td>2003</td>\n",
       "      <td>11</td>\n",
       "      <td>3074</td>\n",
       "      <td>November</td>\n",
       "      <td>What to Expect the First Year (What to Expect)</td>\n",
       "    </tr>\n",
       "    <tr>\n",
       "      <th>16</th>\n",
       "      <td>2004</td>\n",
       "      <td>15</td>\n",
       "      <td>8271</td>\n",
       "      <td>September</td>\n",
       "      <td>Harry Potter Boxed Set, Books 1-5 (Harry Potte...</td>\n",
       "    </tr>\n",
       "    <tr>\n",
       "      <th>17</th>\n",
       "      <td>2005</td>\n",
       "      <td>16</td>\n",
       "      <td>8584</td>\n",
       "      <td>November</td>\n",
       "      <td>Harry Potter Collection (Harry Potter, #1-6)</td>\n",
       "    </tr>\n",
       "    <tr>\n",
       "      <th>18</th>\n",
       "      <td>2006</td>\n",
       "      <td>12</td>\n",
       "      <td>2462</td>\n",
       "      <td>August</td>\n",
       "      <td>The Road to Dune</td>\n",
       "    </tr>\n",
       "    <tr>\n",
       "      <th>19</th>\n",
       "      <td>2007</td>\n",
       "      <td>1</td>\n",
       "      <td>288</td>\n",
       "      <td>February</td>\n",
       "      <td>Shadows in the Starlight (Changeling Detective...</td>\n",
       "    </tr>\n",
       "    <tr>\n",
       "      <th>20</th>\n",
       "      <td>2012</td>\n",
       "      <td>1</td>\n",
       "      <td>1728</td>\n",
       "      <td>September</td>\n",
       "      <td>J.R.R. Tolkien 4-Book Boxed Set: The Hobbit an...</td>\n",
       "    </tr>\n",
       "  </tbody>\n",
       "</table>\n",
       "</div>"
      ],
      "text/plain": [
       "    Year Num_of_books Total_pages Most_prolific_month  \\\n",
       "0   1982            1         416                June   \n",
       "1   1984            1         480               April   \n",
       "2   1986            1         128               April   \n",
       "3   1987            4        1398                July   \n",
       "4   1990            3         956              August   \n",
       "5   1991            3         967                July   \n",
       "6   1993            1         254               March   \n",
       "7   1994            3         496               April   \n",
       "8   1995            1           0                July   \n",
       "9   1996            5        1358            February   \n",
       "10  1997            2         432             January   \n",
       "11  1999            1         720             January   \n",
       "12  2000            4         970                June   \n",
       "13  2001            3        1702           September   \n",
       "14  2002            6        3253           September   \n",
       "15  2003           11        3074            November   \n",
       "16  2004           15        8271           September   \n",
       "17  2005           16        8584            November   \n",
       "18  2006           12        2462              August   \n",
       "19  2007            1         288            February   \n",
       "20  2012            1        1728           September   \n",
       "\n",
       "                                   Longest_book_title  \n",
       "0     The John McPhee Reader (John McPhee Reader, #1)  \n",
       "1              Heretics of Dune (Dune Chronicles, #5)  \n",
       "2                           Heirs of General Practice  \n",
       "3                        Chapterhouse: Dune (Dune #6)  \n",
       "4          The Changeling (Daughters of England, #15)  \n",
       "5                             Coming Into the Country  \n",
       "6           Neither Here nor There: Travels in Europe  \n",
       "7                                  Giving Good Weight  \n",
       "8                                       The Bucaneers  \n",
       "9   The Ultimate Hitchhiker's Guide (Hitchhiker's ...  \n",
       "10                          Notes from a Small Island  \n",
       "11                         Annals of the Former World  \n",
       "12  I'm a Stranger Here Myself: Notes on Returning...  \n",
       "13                      The Lord of the Rings Box Set  \n",
       "14  The Lord of the Rings (The Lord of the Rings, ...  \n",
       "15     What to Expect the First Year (What to Expect)  \n",
       "16  Harry Potter Boxed Set, Books 1-5 (Harry Potte...  \n",
       "17       Harry Potter Collection (Harry Potter, #1-6)  \n",
       "18                                   The Road to Dune  \n",
       "19  Shadows in the Starlight (Changeling Detective...  \n",
       "20  J.R.R. Tolkien 4-Book Boxed Set: The Hobbit an...  "
      ]
     },
     "execution_count": 35,
     "metadata": {},
     "output_type": "execute_result"
    }
   ],
   "source": [
    "import pandas as pd\n",
    "\n",
    "# List of years\n",
    "years_list = [i for i in range(1979 , 2015 , 1)]  # Replace these years with the years you want to analyze\n",
    "\n",
    "# Create an empty DataFrame to store the results\n",
    "results_df = pd.DataFrame(columns=['Year', 'Num_of_books', 'Total_pages', 'Most_prolific_month', 'Longest_book_title'])\n",
    "\n",
    "# Iterate over the list of years and call the function for each year\n",
    "for year in years_list:\n",
    "    \n",
    "    try:\n",
    "        result = cal_inf(year)\n",
    "        results_df = results_df.append(result, ignore_index=True)\n",
    "        \n",
    "    except:\n",
    "        pass\n",
    "\n",
    "# Display the generated DataFrame\n",
    "results_df\n",
    "\n",
    "    "
   ]
  },
  {
   "cell_type": "markdown",
   "metadata": {},
   "source": [
    "#  [RQ4] "
   ]
  },
  {
   "cell_type": "markdown",
   "metadata": {},
   "source": [
    "#### 4-1 You should be sure there are no eponymous (different authors who have precisely the same name) in the author's dataset. Is it true?"
   ]
  },
  {
   "cell_type": "code",
   "execution_count": null,
   "metadata": {},
   "outputs": [],
   "source": [
    "* You should be sure there are no eponymous (different authors who have precisely the same name) in the author's dataset. Is it true"
   ]
  },
  {
   "cell_type": "code",
   "execution_count": 41,
   "metadata": {},
   "outputs": [
    {
     "data": {
      "text/html": [
       "<div>\n",
       "<style scoped>\n",
       "    .dataframe tbody tr th:only-of-type {\n",
       "        vertical-align: middle;\n",
       "    }\n",
       "\n",
       "    .dataframe tbody tr th {\n",
       "        vertical-align: top;\n",
       "    }\n",
       "\n",
       "    .dataframe thead th {\n",
       "        text-align: right;\n",
       "    }\n",
       "</style>\n",
       "<table border=\"1\" class=\"dataframe\">\n",
       "  <thead>\n",
       "    <tr style=\"text-align: right;\">\n",
       "      <th></th>\n",
       "      <th>ratings_count</th>\n",
       "      <th>average_rating</th>\n",
       "      <th>text_reviews_count</th>\n",
       "      <th>work_ids</th>\n",
       "      <th>book_ids</th>\n",
       "      <th>works_count</th>\n",
       "      <th>id</th>\n",
       "      <th>name</th>\n",
       "      <th>gender</th>\n",
       "      <th>image_url</th>\n",
       "      <th>about</th>\n",
       "      <th>fans_count</th>\n",
       "    </tr>\n",
       "  </thead>\n",
       "  <tbody>\n",
       "  </tbody>\n",
       "</table>\n",
       "</div>"
      ],
      "text/plain": [
       "Empty DataFrame\n",
       "Columns: [ratings_count, average_rating, text_reviews_count, work_ids, book_ids, works_count, id, name, gender, image_url, about, fans_count]\n",
       "Index: []"
      ]
     },
     "execution_count": 41,
     "metadata": {},
     "output_type": "execute_result"
    }
   ],
   "source": [
    "# Identify eponymous authors\n",
    "eponymous_authors = df_author[df_author.duplicated('name', keep=False)]\n",
    "\n",
    "# Display the eponymous authors\n",
    "eponymous_authors\n"
   ]
  },
  {
   "cell_type": "markdown",
   "metadata": {},
   "source": [
    "#### 4-2 Write a function that, given a list of author_id, outputs a dictionary where each author_id is a key, and the related value is a list with the names of all the books the author has written."
   ]
  },
  {
   "cell_type": "code",
   "execution_count": 50,
   "metadata": {},
   "outputs": [
    {
     "data": {
      "text/plain": [
       "{1077326: ['Harry Potter and the Order of the Phoenix (Harry Potter, #5)',\n",
       "  \"Harry Potter and the Sorcerer's Stone (Harry Potter, #1)\",\n",
       "  'Harry Potter and the Chamber of Secrets (Harry Potter, #2)',\n",
       "  'Harry Potter and the Prisoner of Azkaban (Harry Potter, #3)',\n",
       "  'Harry Potter and the Goblet of Fire (Harry Potter, #4)',\n",
       "  'The Harry Potter Collection (Harry Potter, #1-6)',\n",
       "  'Harry Potter Boxed Set, Books 1-5 (Harry Potter, #1-5)',\n",
       "  'Harry Potter Collection (Harry Potter, #1-6)'],\n",
       " 58: ['God Emperor of Dune (Dune Chronicles, #4)',\n",
       "  'Dune (Dune Chronicles, #1)',\n",
       "  'Chapterhouse: Dune (Dune #6)',\n",
       "  'Dune Messiah (Dune #2)',\n",
       "  'Heretics of Dune (Dune Chronicles, #5)',\n",
       "  'The Road to Dune']}"
      ]
     },
     "execution_count": 50,
     "metadata": {},
     "output_type": "execute_result"
    }
   ],
   "source": [
    "def get_books_by_author(list_of_author_ids):\n",
    "    books_by_author = {}\n",
    "    \n",
    "    \n",
    "    df_book['author_id'] = df_book['author_id'].astype(int) #did this to input integer author id insted of string type\n",
    "    for author_id in list_of_author_ids:\n",
    "        \n",
    "        # Filter books for a specific author_id\n",
    "        author_books = df_book[df_book['author_id'] == author_id]['title'].tolist()\n",
    "        \n",
    "        # Store book names related to the author_id\n",
    "        books_by_author[author_id] = author_books\n",
    "    \n",
    "    return books_by_author\n",
    "\n",
    "\n",
    "get_books_by_author([1077326 , 58])"
   ]
  },
  {
   "cell_type": "markdown",
   "metadata": {},
   "source": [
    "#### 4-3 What is the longest book title among the books of the top 20 authors regarding their average rating? Is it the longest book title overall?"
   ]
  },
  {
   "cell_type": "code",
   "execution_count": 114,
   "metadata": {
    "scrolled": false
   },
   "outputs": [],
   "source": [
    "best_authors = df_author.sort_values(by = 'average_rating' , ascending = False).head(20)\n",
    "\n",
    "list_to_store_len_book = []\n",
    "\n",
    "for id1 in list(best_authors.id.values):\n",
    "    id1 = int(id1)\n",
    "    \n",
    "    title = df_book[df_book['author_id'] == id1]['title'].tolist()\n",
    "    \n",
    "    if len(title) != 0:\n",
    "        for book_name in title:\n",
    "            #print(book_name,len(book_name) , id1)\n",
    "            list_to_store_len_book.append([book_name , len(book_name) , id1])\n",
    "            \n",
    "final = sorted(list_to_store_len_book , key =  lambda x : x[1] , reverse = True)\n",
    "\n",
    "    "
   ]
  },
  {
   "cell_type": "code",
   "execution_count": 125,
   "metadata": {},
   "outputs": [
    {
     "name": "stdout",
     "output_type": "stream",
     "text": [
      "The longest book name among the to top authors is : \n",
      "  The Ultimate Hitchhiker's Guide: Five Complete Novels and One Story (Hitchhiker's Guide to the Galaxy, #1-5)\n",
      "\n",
      "the len of the title is :  108\n"
     ]
    }
   ],
   "source": [
    "final = sorted(list_to_store_len_book , key =  lambda x : x[1] , reverse = True)\n",
    "\n",
    "print('The longest book name among the to top authors is : \\n ' , final[0][0] )\n",
    "print()\n",
    "print('the len of the title is : ' , final[0][1])"
   ]
  },
  {
   "cell_type": "markdown",
   "metadata": {},
   "source": [
    "### Is it the longest book title overall?"
   ]
  },
  {
   "cell_type": "code",
   "execution_count": 138,
   "metadata": {},
   "outputs": [
    {
     "name": "stdout",
     "output_type": "stream",
     "text": [
      "longest book title among top 20 authors is the same with longest book title overal\n"
     ]
    }
   ],
   "source": [
    "title_len = [(i , len(i)) for i in df_book['title'].tolist() ]\n",
    "\n",
    "longest_book_title = sorted(title_len , key = lambda x : x[1] , reverse = True)[0][0]\n",
    "\n",
    "if longest_book_title == final[0][0]:\n",
    "    print(\"longest book title among top 20 authors is the same with longest book title overal\")\n",
    "    \n",
    "else:\n",
    "    print('they are different from each other')"
   ]
  },
  {
   "cell_type": "markdown",
   "metadata": {},
   "source": [
    "#### 4.4 - What is the shortest overall book title in the dataset? If you find something strange, provide a comment on what happened and an alternative answer."
   ]
  },
  {
   "cell_type": "code",
   "execution_count": 159,
   "metadata": {},
   "outputs": [
    {
     "data": {
      "text/plain": [
       "('a', 1)"
      ]
     },
     "execution_count": 159,
     "metadata": {},
     "output_type": "execute_result"
    }
   ],
   "source": [
    "title_len = [(book , len(book)) for book in df_book['title'].tolist() ]\n",
    "\n",
    "shortest_book_title = sorted(title_len , key = lambda x : x[1] , reverse = False)\n",
    "\n",
    "\n",
    "\"\"\"\n",
    "it might be because the dataset might contain empty or null book titles. In such cases,\n",
    "the title with the minimum length might represent an empty or non-informative entry.\n",
    "An alternative approach to handle this issue would be to clean the dataset, removing or\n",
    "replacing any null or empty values in the 'title' column, and then reattempting the process \n",
    "to find the shortest book title. This cleaning step could involve removing rows\n",
    "with missing titles or replacing the empty titles with a placeholder to distinguish them from legitimate book titles.\n",
    "\"\"\"\n",
    "shortest_book_title[0]"
   ]
  }
 ],
 "metadata": {
  "kernelspec": {
   "display_name": "Python 3 (ipykernel)",
   "language": "python",
   "name": "python3"
  },
  "language_info": {
   "codemirror_mode": {
    "name": "ipython",
    "version": 3
   },
   "file_extension": ".py",
   "mimetype": "text/x-python",
   "name": "python",
   "nbconvert_exporter": "python",
   "pygments_lexer": "ipython3",
   "version": "3.9.12"
  }
 },
 "nbformat": 4,
 "nbformat_minor": 4
}
